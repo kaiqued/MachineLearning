{
 "cells": [
  {
   "cell_type": "code",
   "execution_count": null,
   "id": "24073b73",
   "metadata": {},
   "outputs": [],
   "source": [
    "# !pip install python3-discogs-client\n",
    "token = \"tNqhUjoaLLVQqljjiDGHNQXcNTRgDcytgqWqJaGI\"\n",
    "import discogs_client\n",
    "import urllib.request\n",
    "from IPython.display import Image, display\n",
    "\n",
    "d = discogs_client.Client('SuperKaique/1.0', user_token=token)"
   ]
  },
  {
   "cell_type": "code",
   "execution_count": null,
   "id": "9e2cada1",
   "metadata": {},
   "outputs": [],
   "source": [
    "results = d.search('', style='Acid Rock')\n",
    "\n",
    "paginaAtual = 1\n",
    "\n",
    "paginaCompleta = results.page(paginaAtual)"
   ]
  },
  {
   "cell_type": "code",
   "execution_count": null,
   "id": "ab99abe6",
   "metadata": {},
   "outputs": [],
   "source": [
    "def display_tool(x, y):\n",
    "    image_url = x\n",
    "    filename = \"display.jpg\"\n",
    "\n",
    "    req = urllib.request.build_opener()\n",
    "    req.addheaders = [('User-Agent', \"Mozilla/5.0 (Windows; U; Windows NT 5.1; en-US; rv:1.9.2.8) Gecko/20100722 Firefox/3.6.8 GTB7.1 (.NET CLR 3.5.30729)\")]\n",
    "    urllib.request.install_opener(req)\n",
    "    urllib.request.urlretrieve(image_url, filename)\n",
    "\n",
    "    return display(Image(filename=\"display.jpg\", width = 400, height = 400))"
   ]
  },
  {
   "cell_type": "code",
   "execution_count": null,
   "id": "d56493a6",
   "metadata": {},
   "outputs": [],
   "source": [
    "def SalvarArquivo(Titulo, ID, Url, Wid, Hei):\n",
    "    with open(\"test.txt\", \"a\") as myfile:\n",
    "        myfile.write(\"['Titulo', '{}', '{}', '{}', '{}'],\\n\".format(ID, Url, Wid, Hei))"
   ]
  },
  {
   "cell_type": "code",
   "execution_count": null,
   "id": "2903a3b8",
   "metadata": {
    "scrolled": false
   },
   "outputs": [],
   "source": [
    "# print(len(paginaCompleta))\n",
    "\n",
    "for Item in range(0,len(paginaCompleta)):\n",
    "    print(\"\\nNOVO ITEM:\\n\")\n",
    "    try:\n",
    "        DicImagensMaster = paginaCompleta[Item].master.images\n",
    "        DicImagens = paginaCompleta[Item].images\n",
    "\n",
    "        display_tool(paginaCompleta[Item].data['cover_image'])\n",
    "        \n",
    "        for i in DicImagensMaster:\n",
    "            print(\"Master:\\nWid = {}\\nHei = {}\".format(i['width'], i['height']))\n",
    "            display_tool(i['uri'], paginaCompleta[Item].id)\n",
    "            print('\\n\\n')\n",
    "            Receber = input(\"Imagem boa? \")\n",
    "            print(Receber)\n",
    "            if Receber == '':\n",
    "                SalvarArquivo(paginaCompleta[Item].title, paginaCompleta[Item].id, i['uri'], i['width'], i['height'])\n",
    "                \n",
    "        for i in DicImagens:\n",
    "            print(\"Normal:\\nWid = {}\\nHei = {}\".format(i['width'], i['height']))\n",
    "            display_tool(i['uri'], paginaCompleta[Item].id)\n",
    "            print('\\n\\n')\n",
    "            Receber = input(\"Imagem boa? \")\n",
    "            print(Receber)\n",
    "            if Receber == '':\n",
    "                SalvarArquivo(paginaCompleta[Item].title, paginaCompleta[Item].id, i['uri'], i['width'], i['height'])\n",
    "    except:\n",
    "        DicImagens = paginaCompleta[Item].images\n",
    "        for i in DicImagens:\n",
    "            print(\"Normal:\\nWid = {}\\nHei = {}\".format(i['width'], i['height']))\n",
    "            display_tool(i['uri'], paginaCompleta[Item].id)\n",
    "            print('\\n\\n')\n",
    "            Receber = input(\"Imagem boa? \")\n",
    "            print(Receber)\n",
    "            if Receber == '':\n",
    "                SalvarArquivo(paginaCompleta[Item].title, paginaCompleta[Item].id, i['uri'], i['width'], i['height'])\n",
    "    \n",
    "    print(\"==========___________---------------__________==========\")"
   ]
  },
  {
   "cell_type": "markdown",
   "id": "df629d73",
   "metadata": {
    "scrolled": true
   },
   "source": [
    "for i in range(1,results.pages+1):\n",
    "    print(\"Página {}:\".format(i))\n",
    "    pagina = results.page(i)\n",
    "    for j in pagina:\n",
    "        print(j.labels)\n",
    "        print(j.images[0])\n",
    "        break\n",
    "    break"
   ]
  },
  {
   "cell_type": "markdown",
   "id": "1fb677aa",
   "metadata": {},
   "source": [
    "import webbrowser\n",
    "for i in range(1,11):\n",
    "    webbrowser.open(results.page(1)[i].images[0]['uri'],new=2)"
   ]
  },
  {
   "cell_type": "markdown",
   "id": "4a0d3c62",
   "metadata": {},
   "source": [
    "discogs_client.models.Release.artists"
   ]
  },
  {
   "cell_type": "code",
   "execution_count": null,
   "id": "5af232c6",
   "metadata": {},
   "outputs": [],
   "source": []
  }
 ],
 "metadata": {
  "kernelspec": {
   "display_name": "Python 3 (ipykernel)",
   "language": "python",
   "name": "python3"
  },
  "language_info": {
   "codemirror_mode": {
    "name": "ipython",
    "version": 3
   },
   "file_extension": ".py",
   "mimetype": "text/x-python",
   "name": "python",
   "nbconvert_exporter": "python",
   "pygments_lexer": "ipython3",
   "version": "3.9.7"
  }
 },
 "nbformat": 4,
 "nbformat_minor": 5
}
