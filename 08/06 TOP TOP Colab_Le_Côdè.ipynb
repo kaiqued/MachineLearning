{
  "cells": [
    {
      "cell_type": "markdown",
      "id": "f1836705",
      "metadata": {
        "id": "f1836705"
      },
      "source": [
        "## <span style=\"color:pink\">**PROJETO FINAL DE MACHINE LEARNING 2022.1**</span>\n",
        "### **COLORIZAÇÃO DE IMAGENS BASEADA EM CAPAS DE ÁLBUNS**\n",
        "NICOLE SARVASI ALVES DA COSTA & KAÍQUE DOGNANI"
      ]
    },
    {
      "cell_type": "code",
      "source": [
        "from google.colab import drive\n",
        "drive.mount('/content/drive')"
      ],
      "metadata": {
        "colab": {
          "base_uri": "https://localhost:8080/"
        },
        "id": "dSjAjDqKWIFn",
        "outputId": "ca38e400-ec1b-4c48-dbdf-2268c7acd675"
      },
      "id": "dSjAjDqKWIFn",
      "execution_count": 1,
      "outputs": [
        {
          "output_type": "stream",
          "name": "stdout",
          "text": [
            "Drive already mounted at /content/drive; to attempt to forcibly remount, call drive.mount(\"/content/drive\", force_remount=True).\n"
          ]
        }
      ]
    },
    {
      "cell_type": "code",
      "execution_count": 2,
      "id": "e149c51d",
      "metadata": {
        "id": "e149c51d"
      },
      "outputs": [],
      "source": [
        "from tensorflow import keras\n",
        "from tensorflow.keras.utils import img_to_array, load_img\n",
        "from skimage.color import rgb2hsv\n",
        "import numpy as np\n",
        "import os\n",
        "from skimage.color import hsv2rgb\n",
        "import PIL\n",
        "import pickle\n",
        "from sklearn.model_selection import train_test_split\n",
        "import matplotlib.pyplot as plt"
      ]
    },
    {
      "cell_type": "code",
      "execution_count": 3,
      "id": "4be5177c",
      "metadata": {
        "id": "4be5177c"
      },
      "outputs": [],
      "source": [
        "# def RGB2X_Y():\n",
        "#     with open('drive/MyDrive/Colab Notebooks/dados.pkl', 'rb') as file:\n",
        "#         newDataSet = pickle.load(file)\n",
        "#         file.close()\n",
        "#     newDataSet = newDataSet[np.random.choice(newDataSet.shape[0], 5000), :, :, :]\n",
        "#     newDataSet = newDataSet/255.0\n",
        "#     for index, img in enumerate(newDataSet):\n",
        "#         newDataSet[index] = rgb2hsv(img)\n",
        "#     X_hsv = np.expand_dims(newDataSet[:,:,:,2], 3)\n",
        "#     Y_hsv = newDataSet[:,:,:,:2]\n",
        "\n",
        "#     return X_hsv, Y_hsv\n",
        "\n",
        "# X_train, Y_train = RGB2X_Y()"
      ]
    },
    {
      "cell_type": "code",
      "source": [
        "# with open('drive/MyDrive/Colab Notebooks/dados_XY.pkl', 'wb') as file:\n",
        "#     pickle.dump((X_train, Y_train), file)"
      ],
      "metadata": {
        "id": "DfXNB8YZgFXE"
      },
      "id": "DfXNB8YZgFXE",
      "execution_count": 4,
      "outputs": []
    },
    {
      "cell_type": "code",
      "source": [
        "with open('drive/MyDrive/Colab Notebooks/dados_XY.pkl', 'rb') as file:\n",
        "    X_train, Y_train = pickle.load(file)"
      ],
      "metadata": {
        "id": "99j5zWfbhXxj"
      },
      "id": "99j5zWfbhXxj",
      "execution_count": 5,
      "outputs": []
    },
    {
      "cell_type": "markdown",
      "id": "2f0364fe",
      "metadata": {
        "id": "2f0364fe"
      },
      "source": [
        "Criando um modelo básico:"
      ]
    },
    {
      "cell_type": "code",
      "source": [
        "X_train.shape"
      ],
      "metadata": {
        "colab": {
          "base_uri": "https://localhost:8080/"
        },
        "id": "7szlj-1leFVS",
        "outputId": "0e1aace5-b5cb-4701-8314-ccfcf2b77f77"
      },
      "id": "7szlj-1leFVS",
      "execution_count": 6,
      "outputs": [
        {
          "output_type": "execute_result",
          "data": {
            "text/plain": [
              "(5000, 150, 150, 1)"
            ]
          },
          "metadata": {},
          "execution_count": 6
        }
      ]
    },
    {
      "cell_type": "code",
      "execution_count": 7,
      "id": "29028dc8",
      "metadata": {
        "id": "29028dc8"
      },
      "outputs": [],
      "source": [
        "# model = keras.models.Sequential([\n",
        "#     keras.layers.Conv2D(8, input_shape=[150,150,1], kernel_size=3, padding=\"same\", activation=\"relu\"),\n",
        "#     keras.layers.Conv2D(32, kernel_size=3, padding=\"same\", activation=\"relu\"),\n",
        "#     keras.layers.Conv2D(16, kernel_size=3, padding=\"same\", activation=\"relu\"),\n",
        "#     keras.layers.Conv2D(8, kernel_size=3, padding=\"same\", activation=\"relu\"),\n",
        "#     keras.layers.Conv2D(4, kernel_size=3, padding=\"same\", activation=\"relu\"),\n",
        "#     keras.layers.Conv2D(2, kernel_size=3, padding=\"same\", activation=\"linear\"), \n",
        "# ])\n"
      ]
    },
    {
      "cell_type": "code",
      "source": [
        "# model = keras.models.Sequential([\n",
        "#     keras.layers.Conv2D(2, input_shape=[150,150,1], kernel_size=3, padding=\"same\", activation=\"relu\"),\n",
        "#     keras.layers.Conv2D(4, kernel_size=3, padding=\"same\", activation=\"relu\"),\n",
        "#     keras.layers.Conv2D(8, kernel_size=3, padding=\"same\", activation=\"relu\"),\n",
        "#     keras.layers.Conv2D(16, kernel_size=3, padding=\"same\", activation=\"relu\"),\n",
        "#     keras.layers.Conv2D(32, kernel_size=3, padding=\"same\", activation=\"relu\"),\n",
        "#     keras.layers.Conv2D(64, kernel_size=3, padding=\"same\", activation=\"relu\"),\n",
        "#     keras.layers.Conv2D(128, kernel_size=3, padding=\"same\", activation=\"relu\"),\n",
        "#     keras.layers.Conv2D(64, kernel_size=3, padding=\"same\", activation=\"relu\"),\n",
        "#     keras.layers.Conv2D(32, kernel_size=3, padding=\"same\", activation=\"relu\"),\n",
        "#     keras.layers.Conv2D(16, kernel_size=3, padding=\"same\", activation=\"relu\"),\n",
        "#     keras.layers.Conv2D(8, kernel_size=3, padding=\"same\", activation=\"relu\"),\n",
        "#     keras.layers.Conv2D(2, kernel_size=3, padding=\"same\", activation=\"sigmoid\"), \n",
        "# ])"
      ],
      "metadata": {
        "id": "x5MHP7rgejKr"
      },
      "id": "x5MHP7rgejKr",
      "execution_count": 8,
      "outputs": []
    },
    {
      "cell_type": "code",
      "source": [
        "model = keras.models.Sequential([\n",
        "    keras.layers.Conv2D(64, input_shape=[150,150,1], kernel_size=5, padding=\"same\", activation=\"relu\"),\n",
        "    keras.layers.MaxPool2D(pool_size=(4,4)),\n",
        "    keras.layers.BatchNormalization(),\n",
        "    keras.layers.Conv2D(42, kernel_size=5, padding=\"same\", activation=\"selu\"),\n",
        "    keras.layers.MaxPool2D(pool_size=(2,2)),\n",
        "    keras.layers.BatchNormalization(),\n",
        "    keras.layers.Conv2D(21, kernel_size=5, padding=\"same\", activation=\"selu\"),\n",
        "    keras.layers.MaxPool2D(pool_size=(2,2)),\n",
        "    keras.layers.BatchNormalization(),\n",
        "    keras.layers.Conv2D(16, kernel_size=5, padding=\"same\", activation=\"selu\"),\n",
        "    keras.layers.MaxPool2D(pool_size=(2,2)),\n",
        "    keras.layers.BatchNormalization(),\n",
        "    keras.layers.Conv2D(16, kernel_size=5, padding=\"same\", activation=\"selu\"),\n",
        "    keras.layers.UpSampling2D(size=(2,2)),\n",
        "    keras.layers.BatchNormalization(),\n",
        "    keras.layers.Conv2D(8, kernel_size=5, padding=\"same\", activation=\"selu\"),\n",
        "    keras.layers.UpSampling2D(size=(2,2)),\n",
        "    keras.layers.BatchNormalization(),\n",
        "    keras.layers.Conv2D(8, kernel_size=5, padding=\"same\", activation=\"selu\"),\n",
        "    keras.layers.Resizing(150, 150),\n",
        "    keras.layers.Conv2D(8, kernel_size=5, padding=\"same\", activation=\"relu\"),\n",
        "    keras.layers.Conv2D(4, kernel_size=5, padding=\"same\", activation=\"selu\"),\n",
        "    keras.layers.Conv2D(2, kernel_size=5, padding=\"same\", activation=\"linear\"), \n",
        "])\n"
      ],
      "metadata": {
        "id": "CI9GuJCOY2Tg"
      },
      "id": "CI9GuJCOY2Tg",
      "execution_count": 9,
      "outputs": []
    },
    {
      "cell_type": "code",
      "source": [
        "# model = keras.models.Sequential([\n",
        "#     keras.layers.Conv2D(2, input_shape=[150,150,1], kernel_size=3, padding=\"same\", activation=\"selu\"),\n",
        "#     keras.layers.Flatten(),\n",
        "#     keras.layers.Dense(),\n",
        "#     keras.layers.Dense(),\n",
        "#     keras.layers.Reshape(),\n",
        "#     keras.layers.Conv2D(2, kernel_size=3, padding=\"same\", activation=\"linear\"), \n",
        "# ])"
      ],
      "metadata": {
        "id": "ZygiMAMkSra7"
      },
      "id": "ZygiMAMkSra7",
      "execution_count": 10,
      "outputs": []
    },
    {
      "cell_type": "code",
      "execution_count": 12,
      "id": "80a27de2",
      "metadata": {
        "id": "80a27de2"
      },
      "outputs": [],
      "source": [
        "model.compile(loss=\"mse\", optimizer=\"nadam\")"
      ]
    },
    {
      "cell_type": "code",
      "source": [
        "callback = keras.callbacks.EarlyStopping(\n",
        "    monitor=\"loss\",\n",
        "    min_delta=0.0001,\n",
        "    patience=30,\n",
        "    mode=\"min\",\n",
        "    restore_best_weights=True,\n",
        ")"
      ],
      "metadata": {
        "id": "_AdfDFU0mGP_"
      },
      "id": "_AdfDFU0mGP_",
      "execution_count": 13,
      "outputs": []
    },
    {
      "cell_type": "code",
      "execution_count": null,
      "id": "567ed4df",
      "metadata": {
        "scrolled": true,
        "id": "567ed4df",
        "colab": {
          "base_uri": "https://localhost:8080/"
        },
        "outputId": "52b03900-09c1-4470-fbae-33aecbac2026"
      },
      "outputs": [
        {
          "output_type": "stream",
          "name": "stdout",
          "text": [
            "Epoch 1/1000\n",
            "40/40 [==============================] - 14s 173ms/step - loss: 0.1848\n",
            "Epoch 2/1000\n",
            "40/40 [==============================] - 7s 163ms/step - loss: 0.1084\n",
            "Epoch 3/1000\n",
            "40/40 [==============================] - 7s 164ms/step - loss: 0.1037\n",
            "Epoch 4/1000\n",
            "40/40 [==============================] - 7s 164ms/step - loss: 0.1024\n",
            "Epoch 5/1000\n",
            "40/40 [==============================] - 7s 165ms/step - loss: 0.1019\n",
            "Epoch 6/1000\n",
            "40/40 [==============================] - 7s 165ms/step - loss: 0.0993\n",
            "Epoch 7/1000\n",
            "40/40 [==============================] - 7s 169ms/step - loss: 0.0984\n",
            "Epoch 8/1000\n",
            "40/40 [==============================] - 7s 167ms/step - loss: 0.0984\n",
            "Epoch 9/1000\n",
            "40/40 [==============================] - 7s 170ms/step - loss: 0.0970\n",
            "Epoch 10/1000\n",
            "40/40 [==============================] - 7s 167ms/step - loss: 0.0964\n",
            "Epoch 11/1000\n",
            "40/40 [==============================] - 7s 168ms/step - loss: 0.0947\n",
            "Epoch 12/1000\n",
            "40/40 [==============================] - 7s 166ms/step - loss: 0.0962\n",
            "Epoch 13/1000\n",
            "40/40 [==============================] - 7s 166ms/step - loss: 0.0936\n",
            "Epoch 14/1000\n",
            "40/40 [==============================] - 7s 165ms/step - loss: 0.0932\n",
            "Epoch 15/1000\n",
            "40/40 [==============================] - 7s 165ms/step - loss: 0.0932\n",
            "Epoch 16/1000\n",
            "40/40 [==============================] - 7s 166ms/step - loss: 0.0921\n",
            "Epoch 17/1000\n",
            "40/40 [==============================] - 7s 166ms/step - loss: 0.0914\n",
            "Epoch 18/1000\n",
            "40/40 [==============================] - 7s 165ms/step - loss: 0.0896\n",
            "Epoch 19/1000\n",
            "40/40 [==============================] - 7s 166ms/step - loss: 0.0903\n",
            "Epoch 20/1000\n",
            "40/40 [==============================] - 7s 166ms/step - loss: 0.0930\n",
            "Epoch 21/1000\n",
            "40/40 [==============================] - 7s 166ms/step - loss: 0.0897\n",
            "Epoch 22/1000\n",
            "40/40 [==============================] - 7s 167ms/step - loss: 0.0882\n",
            "Epoch 23/1000\n",
            "40/40 [==============================] - 7s 167ms/step - loss: 0.0880\n",
            "Epoch 24/1000\n",
            "40/40 [==============================] - 7s 166ms/step - loss: 0.0868\n",
            "Epoch 25/1000\n",
            "40/40 [==============================] - 7s 167ms/step - loss: 0.0860\n",
            "Epoch 26/1000\n",
            "40/40 [==============================] - 7s 166ms/step - loss: 0.0852\n",
            "Epoch 27/1000\n",
            "40/40 [==============================] - 7s 166ms/step - loss: 0.0838\n",
            "Epoch 28/1000\n",
            "40/40 [==============================] - 7s 166ms/step - loss: 0.0899\n",
            "Epoch 29/1000\n",
            "40/40 [==============================] - 7s 167ms/step - loss: 0.0836\n",
            "Epoch 30/1000\n",
            "40/40 [==============================] - 7s 167ms/step - loss: 0.0822\n",
            "Epoch 31/1000\n",
            "40/40 [==============================] - 7s 166ms/step - loss: 0.0823\n",
            "Epoch 32/1000\n",
            "40/40 [==============================] - 7s 166ms/step - loss: 0.0811\n",
            "Epoch 33/1000\n",
            "40/40 [==============================] - 7s 166ms/step - loss: 0.0805\n",
            "Epoch 34/1000\n",
            "40/40 [==============================] - 7s 167ms/step - loss: 0.0791\n",
            "Epoch 35/1000\n",
            "40/40 [==============================] - 7s 167ms/step - loss: 0.0801\n",
            "Epoch 36/1000\n",
            "40/40 [==============================] - 7s 166ms/step - loss: 0.0789\n",
            "Epoch 37/1000\n",
            "40/40 [==============================] - 7s 166ms/step - loss: 0.0785\n",
            "Epoch 38/1000\n",
            "40/40 [==============================] - 7s 166ms/step - loss: 0.0759\n",
            "Epoch 39/1000\n",
            "40/40 [==============================] - 7s 166ms/step - loss: 0.0764\n",
            "Epoch 40/1000\n",
            "40/40 [==============================] - 7s 167ms/step - loss: 0.0755\n",
            "Epoch 41/1000\n",
            "40/40 [==============================] - 7s 166ms/step - loss: 0.0754\n",
            "Epoch 42/1000\n",
            "40/40 [==============================] - 7s 166ms/step - loss: 0.0768\n",
            "Epoch 43/1000\n",
            "40/40 [==============================] - 7s 166ms/step - loss: 0.0738\n",
            "Epoch 44/1000\n",
            "40/40 [==============================] - 7s 168ms/step - loss: 0.0715\n",
            "Epoch 45/1000\n",
            "40/40 [==============================] - 7s 167ms/step - loss: 0.0703\n",
            "Epoch 46/1000\n",
            "40/40 [==============================] - 7s 166ms/step - loss: 0.0704\n",
            "Epoch 47/1000\n",
            "40/40 [==============================] - 7s 167ms/step - loss: 0.0684\n",
            "Epoch 48/1000\n",
            "40/40 [==============================] - 7s 166ms/step - loss: 0.0673\n",
            "Epoch 49/1000\n",
            "40/40 [==============================] - 7s 167ms/step - loss: 0.0696\n",
            "Epoch 50/1000\n",
            "40/40 [==============================] - 7s 166ms/step - loss: 0.0669\n",
            "Epoch 51/1000\n",
            "40/40 [==============================] - 7s 167ms/step - loss: 0.0696\n",
            "Epoch 52/1000\n",
            "40/40 [==============================] - 7s 166ms/step - loss: 0.0701\n",
            "Epoch 53/1000\n",
            "40/40 [==============================] - 7s 167ms/step - loss: 0.0651\n",
            "Epoch 54/1000\n",
            "40/40 [==============================] - 7s 166ms/step - loss: 0.0833\n",
            "Epoch 55/1000\n",
            "40/40 [==============================] - 7s 165ms/step - loss: 0.0705\n",
            "Epoch 56/1000\n",
            "40/40 [==============================] - 7s 166ms/step - loss: 0.0705\n",
            "Epoch 57/1000\n",
            "40/40 [==============================] - 7s 166ms/step - loss: 0.0675\n",
            "Epoch 58/1000\n",
            "40/40 [==============================] - 7s 166ms/step - loss: 0.0657\n",
            "Epoch 59/1000\n",
            "40/40 [==============================] - 7s 166ms/step - loss: 0.0636\n",
            "Epoch 60/1000\n",
            "40/40 [==============================] - 7s 166ms/step - loss: 0.0636\n",
            "Epoch 61/1000\n",
            "40/40 [==============================] - 7s 167ms/step - loss: 0.0631\n",
            "Epoch 62/1000\n",
            "40/40 [==============================] - 7s 166ms/step - loss: 0.0632\n",
            "Epoch 63/1000\n",
            "40/40 [==============================] - 7s 167ms/step - loss: 0.0629\n",
            "Epoch 64/1000\n",
            "40/40 [==============================] - 7s 167ms/step - loss: 0.0625\n",
            "Epoch 65/1000\n",
            "40/40 [==============================] - 7s 167ms/step - loss: 0.0600\n",
            "Epoch 66/1000\n",
            "40/40 [==============================] - 7s 166ms/step - loss: 0.0609\n",
            "Epoch 67/1000\n",
            "40/40 [==============================] - 7s 167ms/step - loss: 0.0623\n",
            "Epoch 68/1000\n",
            "40/40 [==============================] - 7s 167ms/step - loss: 0.0596\n",
            "Epoch 69/1000\n",
            "40/40 [==============================] - 7s 166ms/step - loss: 0.0614\n",
            "Epoch 70/1000\n",
            "40/40 [==============================] - 7s 167ms/step - loss: 0.0595\n",
            "Epoch 71/1000\n",
            "40/40 [==============================] - 7s 166ms/step - loss: 0.0629\n",
            "Epoch 72/1000\n",
            "40/40 [==============================] - 7s 166ms/step - loss: 0.0610\n",
            "Epoch 73/1000\n",
            "40/40 [==============================] - 7s 166ms/step - loss: 0.0627\n",
            "Epoch 74/1000\n",
            "40/40 [==============================] - 7s 166ms/step - loss: 0.0590\n",
            "Epoch 75/1000\n",
            "40/40 [==============================] - 7s 167ms/step - loss: 0.0615\n",
            "Epoch 76/1000\n",
            "40/40 [==============================] - 7s 167ms/step - loss: 0.0584\n",
            "Epoch 77/1000\n",
            "40/40 [==============================] - 7s 166ms/step - loss: 0.0576\n",
            "Epoch 78/1000\n",
            "40/40 [==============================] - 7s 167ms/step - loss: 0.0582\n",
            "Epoch 79/1000\n",
            "40/40 [==============================] - 7s 166ms/step - loss: 0.0590\n",
            "Epoch 80/1000\n",
            "40/40 [==============================] - 7s 166ms/step - loss: 0.0573\n",
            "Epoch 81/1000\n",
            "40/40 [==============================] - 7s 166ms/step - loss: 0.0577\n",
            "Epoch 82/1000\n",
            "40/40 [==============================] - 7s 168ms/step - loss: 0.0577\n",
            "Epoch 83/1000\n",
            "40/40 [==============================] - 7s 164ms/step - loss: 0.0574\n",
            "Epoch 84/1000\n",
            "40/40 [==============================] - 7s 165ms/step - loss: 0.0562\n",
            "Epoch 85/1000\n",
            "40/40 [==============================] - 7s 166ms/step - loss: 0.0563\n",
            "Epoch 86/1000\n",
            "40/40 [==============================] - 7s 167ms/step - loss: 0.0574\n",
            "Epoch 87/1000\n",
            "40/40 [==============================] - 7s 165ms/step - loss: 0.0576\n",
            "Epoch 88/1000\n",
            "40/40 [==============================] - 7s 166ms/step - loss: 0.0553\n",
            "Epoch 89/1000\n",
            "40/40 [==============================] - 7s 166ms/step - loss: 0.0576\n",
            "Epoch 90/1000\n",
            "40/40 [==============================] - 7s 166ms/step - loss: 0.0575\n",
            "Epoch 91/1000\n",
            "40/40 [==============================] - 7s 166ms/step - loss: 0.0552\n",
            "Epoch 92/1000\n",
            "40/40 [==============================] - 7s 166ms/step - loss: 0.0553\n",
            "Epoch 93/1000\n",
            "40/40 [==============================] - 7s 165ms/step - loss: 0.0613\n",
            "Epoch 94/1000\n",
            "40/40 [==============================] - 7s 166ms/step - loss: 0.0556\n",
            "Epoch 95/1000\n",
            "40/40 [==============================] - 7s 165ms/step - loss: 0.0551\n",
            "Epoch 96/1000\n",
            "40/40 [==============================] - 7s 166ms/step - loss: 0.0541\n",
            "Epoch 97/1000\n",
            "40/40 [==============================] - 7s 165ms/step - loss: 0.0540\n",
            "Epoch 98/1000\n",
            "40/40 [==============================] - 7s 165ms/step - loss: 0.0602\n",
            "Epoch 99/1000\n",
            "40/40 [==============================] - 7s 165ms/step - loss: 0.0560\n",
            "Epoch 100/1000\n",
            "40/40 [==============================] - 7s 165ms/step - loss: 0.0541\n",
            "Epoch 101/1000\n",
            "40/40 [==============================] - 7s 166ms/step - loss: 0.0554\n",
            "Epoch 102/1000\n",
            "40/40 [==============================] - 7s 165ms/step - loss: 0.0543\n",
            "Epoch 103/1000\n",
            "40/40 [==============================] - 7s 165ms/step - loss: 0.0540\n",
            "Epoch 104/1000\n",
            "40/40 [==============================] - 7s 166ms/step - loss: 0.0531\n",
            "Epoch 105/1000\n",
            "40/40 [==============================] - 7s 165ms/step - loss: 0.0543\n",
            "Epoch 106/1000\n",
            "40/40 [==============================] - 7s 166ms/step - loss: 0.0528\n",
            "Epoch 107/1000\n",
            "40/40 [==============================] - 7s 165ms/step - loss: 0.0601\n",
            "Epoch 108/1000\n",
            "40/40 [==============================] - 7s 166ms/step - loss: 0.0537\n",
            "Epoch 109/1000\n",
            "40/40 [==============================] - 7s 166ms/step - loss: 0.0525\n",
            "Epoch 110/1000\n",
            "40/40 [==============================] - 7s 166ms/step - loss: 0.0551\n",
            "Epoch 111/1000\n",
            "40/40 [==============================] - 7s 166ms/step - loss: 0.0532\n",
            "Epoch 112/1000\n",
            "40/40 [==============================] - 7s 166ms/step - loss: 0.0522\n",
            "Epoch 113/1000\n",
            "40/40 [==============================] - 7s 166ms/step - loss: 0.0520\n",
            "Epoch 114/1000\n",
            "40/40 [==============================] - 7s 165ms/step - loss: 0.0549\n",
            "Epoch 115/1000\n",
            "40/40 [==============================] - 7s 165ms/step - loss: 0.0528\n",
            "Epoch 116/1000\n",
            "40/40 [==============================] - 7s 165ms/step - loss: 0.0527\n",
            "Epoch 117/1000\n",
            "40/40 [==============================] - 7s 165ms/step - loss: 0.0531\n",
            "Epoch 118/1000\n",
            "40/40 [==============================] - 7s 165ms/step - loss: 0.0529\n",
            "Epoch 119/1000\n",
            "40/40 [==============================] - 7s 166ms/step - loss: 0.0515\n",
            "Epoch 120/1000\n",
            "40/40 [==============================] - 7s 169ms/step - loss: 0.0514\n",
            "Epoch 121/1000\n",
            "40/40 [==============================] - 7s 166ms/step - loss: 0.0508\n",
            "Epoch 122/1000\n",
            "40/40 [==============================] - 7s 165ms/step - loss: 0.0512\n",
            "Epoch 123/1000\n",
            "40/40 [==============================] - 7s 165ms/step - loss: 0.0514\n",
            "Epoch 124/1000\n",
            "40/40 [==============================] - 7s 165ms/step - loss: 0.0543\n",
            "Epoch 125/1000\n",
            "40/40 [==============================] - 7s 165ms/step - loss: 0.0525\n",
            "Epoch 126/1000\n",
            "40/40 [==============================] - 7s 165ms/step - loss: 0.0557\n",
            "Epoch 127/1000\n",
            "40/40 [==============================] - 7s 165ms/step - loss: 0.0518\n",
            "Epoch 128/1000\n",
            "40/40 [==============================] - 7s 165ms/step - loss: 0.0519\n",
            "Epoch 129/1000\n",
            "40/40 [==============================] - 7s 166ms/step - loss: 0.0547\n",
            "Epoch 130/1000\n",
            "40/40 [==============================] - 7s 164ms/step - loss: 0.0516\n",
            "Epoch 131/1000\n",
            "40/40 [==============================] - 7s 165ms/step - loss: 0.0508\n",
            "Epoch 132/1000\n",
            "40/40 [==============================] - 7s 165ms/step - loss: 0.0613\n",
            "Epoch 133/1000\n",
            "40/40 [==============================] - 7s 165ms/step - loss: 0.0525\n",
            "Epoch 134/1000\n",
            "40/40 [==============================] - 7s 165ms/step - loss: 0.0532\n",
            "Epoch 135/1000\n",
            "40/40 [==============================] - 7s 166ms/step - loss: 0.0507\n",
            "Epoch 136/1000\n",
            "40/40 [==============================] - 7s 166ms/step - loss: 0.0507\n",
            "Epoch 137/1000\n",
            "40/40 [==============================] - 7s 165ms/step - loss: 0.0502\n",
            "Epoch 138/1000\n",
            "40/40 [==============================] - 7s 166ms/step - loss: 0.0501\n",
            "Epoch 139/1000\n",
            "40/40 [==============================] - 7s 166ms/step - loss: 0.0498\n",
            "Epoch 140/1000\n",
            "40/40 [==============================] - 7s 166ms/step - loss: 0.0495\n",
            "Epoch 141/1000\n",
            "40/40 [==============================] - 7s 165ms/step - loss: 0.0508\n",
            "Epoch 142/1000\n",
            "40/40 [==============================] - 7s 165ms/step - loss: 0.0504\n",
            "Epoch 143/1000\n",
            "40/40 [==============================] - 7s 165ms/step - loss: 0.0498\n",
            "Epoch 144/1000\n",
            "40/40 [==============================] - 7s 166ms/step - loss: 0.0493\n",
            "Epoch 145/1000\n",
            "40/40 [==============================] - 7s 165ms/step - loss: 0.0497\n",
            "Epoch 146/1000\n",
            "40/40 [==============================] - 7s 165ms/step - loss: 0.0491\n",
            "Epoch 147/1000\n",
            "40/40 [==============================] - 7s 165ms/step - loss: 0.0494\n",
            "Epoch 148/1000\n",
            "40/40 [==============================] - 7s 166ms/step - loss: 0.0492\n",
            "Epoch 149/1000\n",
            "40/40 [==============================] - 7s 166ms/step - loss: 0.0496\n",
            "Epoch 150/1000\n",
            "40/40 [==============================] - 7s 166ms/step - loss: 0.0489\n",
            "Epoch 151/1000\n",
            "40/40 [==============================] - 7s 166ms/step - loss: 0.0486\n",
            "Epoch 152/1000\n",
            "40/40 [==============================] - 7s 165ms/step - loss: 0.0490\n",
            "Epoch 153/1000\n",
            "40/40 [==============================] - 7s 166ms/step - loss: 0.0489\n",
            "Epoch 154/1000\n",
            "40/40 [==============================] - 7s 166ms/step - loss: 0.0489\n",
            "Epoch 155/1000\n",
            "40/40 [==============================] - 7s 166ms/step - loss: 0.0488\n",
            "Epoch 156/1000\n",
            "40/40 [==============================] - 7s 166ms/step - loss: 0.0502\n",
            "Epoch 157/1000\n",
            "40/40 [==============================] - 7s 169ms/step - loss: 0.0497\n",
            "Epoch 158/1000\n",
            "40/40 [==============================] - 7s 166ms/step - loss: 0.0484\n",
            "Epoch 159/1000\n",
            "40/40 [==============================] - 7s 166ms/step - loss: 0.0501\n",
            "Epoch 160/1000\n",
            "40/40 [==============================] - 7s 165ms/step - loss: 0.0513\n",
            "Epoch 161/1000\n",
            "40/40 [==============================] - 7s 166ms/step - loss: 0.0490\n",
            "Epoch 162/1000\n",
            "40/40 [==============================] - 7s 165ms/step - loss: 0.0487\n",
            "Epoch 163/1000\n",
            "40/40 [==============================] - 7s 165ms/step - loss: 0.0498\n",
            "Epoch 164/1000\n",
            "40/40 [==============================] - 7s 166ms/step - loss: 0.0494\n",
            "Epoch 165/1000\n",
            "40/40 [==============================] - 7s 166ms/step - loss: 0.0487\n",
            "Epoch 166/1000\n",
            "40/40 [==============================] - 7s 166ms/step - loss: 0.0498\n",
            "Epoch 167/1000\n",
            "40/40 [==============================] - 7s 166ms/step - loss: 0.0480\n",
            "Epoch 168/1000\n",
            "40/40 [==============================] - 7s 165ms/step - loss: 0.0511\n",
            "Epoch 169/1000\n",
            "40/40 [==============================] - 7s 166ms/step - loss: 0.0480\n",
            "Epoch 170/1000\n",
            "40/40 [==============================] - 7s 166ms/step - loss: 0.0480\n",
            "Epoch 171/1000\n",
            "40/40 [==============================] - 7s 166ms/step - loss: 0.0497\n",
            "Epoch 172/1000\n",
            "40/40 [==============================] - 7s 166ms/step - loss: 0.0501\n",
            "Epoch 173/1000\n",
            "40/40 [==============================] - 7s 165ms/step - loss: 0.0498\n",
            "Epoch 174/1000\n",
            "40/40 [==============================] - 7s 166ms/step - loss: 0.0491\n",
            "Epoch 175/1000\n",
            "40/40 [==============================] - 7s 165ms/step - loss: 0.0497\n",
            "Epoch 176/1000\n",
            "40/40 [==============================] - 7s 166ms/step - loss: 0.0481\n",
            "Epoch 177/1000\n",
            "40/40 [==============================] - 7s 166ms/step - loss: 0.0479\n",
            "Epoch 178/1000\n",
            "40/40 [==============================] - 7s 166ms/step - loss: 0.0479\n",
            "Epoch 179/1000\n",
            "40/40 [==============================] - 7s 166ms/step - loss: 0.0487\n",
            "Epoch 180/1000\n",
            "40/40 [==============================] - 7s 166ms/step - loss: 0.0477\n",
            "Epoch 181/1000\n",
            "40/40 [==============================] - 7s 167ms/step - loss: 0.0479\n",
            "Epoch 182/1000\n",
            "40/40 [==============================] - 7s 166ms/step - loss: 0.0475\n",
            "Epoch 183/1000\n",
            "40/40 [==============================] - 7s 166ms/step - loss: 0.0472\n",
            "Epoch 184/1000\n",
            "40/40 [==============================] - 7s 166ms/step - loss: 0.0490\n",
            "Epoch 185/1000\n",
            "40/40 [==============================] - 7s 165ms/step - loss: 0.0474\n",
            "Epoch 186/1000\n",
            "40/40 [==============================] - 7s 166ms/step - loss: 0.0471\n",
            "Epoch 187/1000\n",
            "40/40 [==============================] - 7s 166ms/step - loss: 0.0471\n",
            "Epoch 188/1000\n",
            "40/40 [==============================] - 7s 165ms/step - loss: 0.0490\n",
            "Epoch 189/1000\n",
            "40/40 [==============================] - 7s 166ms/step - loss: 0.0469\n",
            "Epoch 190/1000\n",
            "40/40 [==============================] - 7s 166ms/step - loss: 0.0490\n",
            "Epoch 191/1000\n",
            "40/40 [==============================] - 7s 165ms/step - loss: 0.0474\n",
            "Epoch 192/1000\n",
            "40/40 [==============================] - 7s 167ms/step - loss: 0.0480\n",
            "Epoch 193/1000\n",
            "40/40 [==============================] - 7s 166ms/step - loss: 0.0490\n",
            "Epoch 194/1000\n",
            "40/40 [==============================] - 7s 167ms/step - loss: 0.0519\n",
            "Epoch 195/1000\n",
            "40/40 [==============================] - 7s 169ms/step - loss: 0.0482\n",
            "Epoch 196/1000\n",
            "40/40 [==============================] - 7s 167ms/step - loss: 0.0471\n",
            "Epoch 197/1000\n",
            "40/40 [==============================] - 7s 167ms/step - loss: 0.0467\n",
            "Epoch 198/1000\n",
            "40/40 [==============================] - 7s 166ms/step - loss: 0.0467\n",
            "Epoch 199/1000\n",
            "40/40 [==============================] - 7s 166ms/step - loss: 0.0467\n",
            "Epoch 200/1000\n",
            "40/40 [==============================] - 7s 166ms/step - loss: 0.0463\n",
            "Epoch 201/1000\n",
            "40/40 [==============================] - 7s 166ms/step - loss: 0.0472\n",
            "Epoch 202/1000\n",
            "40/40 [==============================] - 7s 166ms/step - loss: 0.0467\n",
            "Epoch 203/1000\n",
            "40/40 [==============================] - 7s 166ms/step - loss: 0.0463\n",
            "Epoch 204/1000\n",
            "40/40 [==============================] - 7s 166ms/step - loss: 0.0457\n",
            "Epoch 205/1000\n",
            "40/40 [==============================] - 7s 165ms/step - loss: 0.0460\n",
            "Epoch 206/1000\n",
            "40/40 [==============================] - 7s 166ms/step - loss: 0.0462\n",
            "Epoch 207/1000\n",
            "40/40 [==============================] - 7s 166ms/step - loss: 0.0468\n",
            "Epoch 208/1000\n",
            "40/40 [==============================] - 7s 166ms/step - loss: 0.0468\n",
            "Epoch 209/1000\n",
            "40/40 [==============================] - 7s 168ms/step - loss: 0.0462\n",
            "Epoch 210/1000\n",
            "40/40 [==============================] - 7s 166ms/step - loss: 0.0461\n",
            "Epoch 211/1000\n",
            "40/40 [==============================] - 7s 165ms/step - loss: 0.0477\n",
            "Epoch 212/1000\n",
            "40/40 [==============================] - 7s 166ms/step - loss: 0.0473\n",
            "Epoch 213/1000\n",
            "40/40 [==============================] - 7s 166ms/step - loss: 0.0469\n",
            "Epoch 214/1000\n",
            "40/40 [==============================] - 7s 165ms/step - loss: 0.0471\n",
            "Epoch 215/1000\n",
            "40/40 [==============================] - 7s 166ms/step - loss: 0.0472\n",
            "Epoch 216/1000\n",
            "40/40 [==============================] - 7s 166ms/step - loss: 0.0457\n",
            "Epoch 217/1000\n",
            "40/40 [==============================] - 7s 166ms/step - loss: 0.0456\n",
            "Epoch 218/1000\n",
            "40/40 [==============================] - 7s 166ms/step - loss: 0.0457\n",
            "Epoch 219/1000\n",
            "40/40 [==============================] - 7s 166ms/step - loss: 0.0462\n",
            "Epoch 220/1000\n",
            "40/40 [==============================] - 7s 166ms/step - loss: 0.0470\n",
            "Epoch 221/1000\n",
            "40/40 [==============================] - 7s 166ms/step - loss: 0.0514\n",
            "Epoch 222/1000\n",
            "40/40 [==============================] - 7s 166ms/step - loss: 0.0495\n",
            "Epoch 223/1000\n",
            "40/40 [==============================] - 7s 166ms/step - loss: 0.0471\n",
            "Epoch 224/1000\n",
            "40/40 [==============================] - 7s 166ms/step - loss: 0.0464\n",
            "Epoch 225/1000\n",
            "40/40 [==============================] - 7s 166ms/step - loss: 0.0467\n",
            "Epoch 226/1000\n",
            "40/40 [==============================] - 7s 172ms/step - loss: 0.0485\n",
            "Epoch 227/1000\n",
            "40/40 [==============================] - 7s 166ms/step - loss: 0.0459\n",
            "Epoch 228/1000\n",
            "21/40 [==============>...............] - ETA: 3s - loss: 0.0483"
          ]
        }
      ],
      "source": [
        "history = model.fit(X_train, Y_train, epochs=1000, batch_size=128, callbacks=[callback])\n",
        "\n",
        "#score = model.evaluate(X_test, Y_test)"
      ]
    },
    {
      "cell_type": "code",
      "execution_count": 2,
      "id": "5b782b7d",
      "metadata": {
        "id": "5b782b7d",
        "colab": {
          "base_uri": "https://localhost:8080/",
          "height": 370
        },
        "outputId": "d5cc5742-e6ce-4e32-fbfd-50d5d81a97be"
      },
      "outputs": [
        {
          "output_type": "error",
          "ename": "FileNotFoundError",
          "evalue": "ignored",
          "traceback": [
            "\u001b[0;31m---------------------------------------------------------------------------\u001b[0m",
            "\u001b[0;31mFileNotFoundError\u001b[0m                         Traceback (most recent call last)",
            "\u001b[0;32m<ipython-input-2-baabffcfaaa2>\u001b[0m in \u001b[0;36m<module>\u001b[0;34m()\u001b[0m\n\u001b[1;32m      1\u001b[0m \u001b[0;32mimport\u001b[0m \u001b[0mPIL\u001b[0m\u001b[0;34m\u001b[0m\u001b[0;34m\u001b[0m\u001b[0m\n\u001b[1;32m      2\u001b[0m \u001b[0mpath_img\u001b[0m \u001b[0;34m=\u001b[0m \u001b[0;34m\"drive/MyDrive/Colab Notebooks/02.jpg\"\u001b[0m\u001b[0;34m\u001b[0m\u001b[0;34m\u001b[0m\u001b[0m\n\u001b[0;32m----> 3\u001b[0;31m \u001b[0mfile\u001b[0m \u001b[0;34m=\u001b[0m \u001b[0mPIL\u001b[0m\u001b[0;34m.\u001b[0m\u001b[0mImage\u001b[0m\u001b[0;34m.\u001b[0m\u001b[0mopen\u001b[0m\u001b[0;34m(\u001b[0m\u001b[0mpath_img\u001b[0m\u001b[0;34m)\u001b[0m\u001b[0;34m\u001b[0m\u001b[0;34m\u001b[0m\u001b[0m\n\u001b[0m\u001b[1;32m      4\u001b[0m \u001b[0;32mif\u001b[0m \u001b[0mfile\u001b[0m\u001b[0;34m.\u001b[0m\u001b[0msize\u001b[0m \u001b[0;34m!=\u001b[0m \u001b[0;34m(\u001b[0m\u001b[0;36m150\u001b[0m\u001b[0;34m,\u001b[0m\u001b[0;36m150\u001b[0m\u001b[0;34m)\u001b[0m\u001b[0;34m:\u001b[0m\u001b[0;34m\u001b[0m\u001b[0;34m\u001b[0m\u001b[0m\n\u001b[1;32m      5\u001b[0m     \u001b[0mfile\u001b[0m \u001b[0;34m=\u001b[0m \u001b[0mfile\u001b[0m\u001b[0;34m.\u001b[0m\u001b[0mresize\u001b[0m\u001b[0;34m(\u001b[0m\u001b[0;34m(\u001b[0m\u001b[0;36m150\u001b[0m\u001b[0;34m,\u001b[0m\u001b[0;36m150\u001b[0m\u001b[0;34m)\u001b[0m\u001b[0;34m)\u001b[0m\u001b[0;34m\u001b[0m\u001b[0;34m\u001b[0m\u001b[0m\n",
            "\u001b[0;32m/usr/local/lib/python3.7/dist-packages/PIL/Image.py\u001b[0m in \u001b[0;36mopen\u001b[0;34m(fp, mode)\u001b[0m\n\u001b[1;32m   2841\u001b[0m \u001b[0;34m\u001b[0m\u001b[0m\n\u001b[1;32m   2842\u001b[0m     \u001b[0;32mif\u001b[0m \u001b[0mfilename\u001b[0m\u001b[0;34m:\u001b[0m\u001b[0;34m\u001b[0m\u001b[0;34m\u001b[0m\u001b[0m\n\u001b[0;32m-> 2843\u001b[0;31m         \u001b[0mfp\u001b[0m \u001b[0;34m=\u001b[0m \u001b[0mbuiltins\u001b[0m\u001b[0;34m.\u001b[0m\u001b[0mopen\u001b[0m\u001b[0;34m(\u001b[0m\u001b[0mfilename\u001b[0m\u001b[0;34m,\u001b[0m \u001b[0;34m\"rb\"\u001b[0m\u001b[0;34m)\u001b[0m\u001b[0;34m\u001b[0m\u001b[0;34m\u001b[0m\u001b[0m\n\u001b[0m\u001b[1;32m   2844\u001b[0m         \u001b[0mexclusive_fp\u001b[0m \u001b[0;34m=\u001b[0m \u001b[0;32mTrue\u001b[0m\u001b[0;34m\u001b[0m\u001b[0;34m\u001b[0m\u001b[0m\n\u001b[1;32m   2845\u001b[0m \u001b[0;34m\u001b[0m\u001b[0m\n",
            "\u001b[0;31mFileNotFoundError\u001b[0m: [Errno 2] No such file or directory: 'drive/MyDrive/Colab Notebooks/02.jpg'"
          ]
        }
      ],
      "source": [
        "import PIL\n",
        "path_img = \"drive/MyDrive/Colab Notebooks/02.jpg\"\n",
        "file = PIL.Image.open(path_img)\n",
        "if file.size != (150,150):\n",
        "    file = file.resize((150,150))\n",
        "    file.save(path_img)\n",
        "\n",
        "img = img_to_array(load_img(path_img))\n",
        "print(img.shape)"
      ]
    },
    {
      "cell_type": "code",
      "execution_count": null,
      "id": "47806baa",
      "metadata": {
        "id": "47806baa"
      },
      "outputs": [],
      "source": [
        "img_hsv   = rgb2hsv(img/255.0)\n",
        "img_X_test = np.expand_dims(img_hsv[:,:,2],2)\n",
        "print(img_X_test.shape)\n",
        "img_Y_test = img_hsv[:,:,:2]"
      ]
    },
    {
      "cell_type": "code",
      "execution_count": null,
      "id": "8e90c906",
      "metadata": {
        "id": "8e90c906"
      },
      "outputs": [],
      "source": [
        "img_Y_pred = model.predict(np.array([img_X_test]))\n",
        "img_Y_pred.shape"
      ]
    },
    {
      "cell_type": "code",
      "execution_count": null,
      "id": "22cf69bb",
      "metadata": {
        "id": "22cf69bb"
      },
      "outputs": [],
      "source": [
        "img_pred_hsv = np.concatenate((img_Y_pred[0,:,:,:],img_X_test), axis=2)\n",
        "img_test_hsv = np.concatenate((img_Y_test,img_X_test), axis=2)"
      ]
    },
    {
      "cell_type": "code",
      "execution_count": null,
      "id": "ea3fa124",
      "metadata": {
        "id": "ea3fa124"
      },
      "outputs": [],
      "source": [
        "print(\"img_pred_hsv\",img_pred_hsv.shape)\n",
        "print(\"img_teste_hsv\",img_test_hsv.shape)"
      ]
    },
    {
      "cell_type": "code",
      "execution_count": null,
      "id": "d71a65af",
      "metadata": {
        "scrolled": true,
        "id": "d71a65af"
      },
      "outputs": [],
      "source": [
        "Imagem_Pred = (255*hsv2rgb(img_pred_hsv)).astype(np.uint8)\n",
        "Imagem_Test = (255*hsv2rgb(img_test_hsv)).astype(np.uint8)\n",
        "print(\"Imagem_Pred\",Imagem_Pred.shape)\n",
        "print(\"Imagem_Test\",Imagem_Test.shape)"
      ]
    },
    {
      "cell_type": "code",
      "execution_count": null,
      "id": "5f765318",
      "metadata": {
        "id": "5f765318"
      },
      "outputs": [],
      "source": [
        "fig = plt.figure(figsize=(10,10))\n",
        "fig.add_subplot(1,2,1)\n",
        "plt.imshow(Imagem_Test)\n",
        "plt.axis('off')\n",
        "plt.title(\"Test\")\n",
        "\n",
        "fig.add_subplot(1,2,2)\n",
        "plt.imshow(Imagem_Pred)\n",
        "plt.axis('off')\n",
        "plt.title(\"Pred\")"
      ]
    },
    {
      "cell_type": "code",
      "execution_count": null,
      "id": "baeade78",
      "metadata": {
        "id": "baeade78"
      },
      "outputs": [],
      "source": [
        "plt.imshow(img_pred_hsv[:,:,1])"
      ]
    },
    {
      "cell_type": "code",
      "execution_count": null,
      "id": "71013108",
      "metadata": {
        "id": "71013108"
      },
      "outputs": [],
      "source": [
        "img_pred_hsv.max()"
      ]
    },
    {
      "cell_type": "code",
      "source": [
        ""
      ],
      "metadata": {
        "id": "Pa6z_C4lEmyJ"
      },
      "id": "Pa6z_C4lEmyJ",
      "execution_count": null,
      "outputs": []
    }
  ],
  "metadata": {
    "kernelspec": {
      "display_name": "Python 3 (ipykernel)",
      "language": "python",
      "name": "python3"
    },
    "language_info": {
      "codemirror_mode": {
        "name": "ipython",
        "version": 3
      },
      "file_extension": ".py",
      "mimetype": "text/x-python",
      "name": "python",
      "nbconvert_exporter": "python",
      "pygments_lexer": "ipython3",
      "version": "3.9.7"
    },
    "colab": {
      "name": "Colab_Le Côdè.ipynb",
      "provenance": [],
      "collapsed_sections": []
    },
    "accelerator": "GPU"
  },
  "nbformat": 4,
  "nbformat_minor": 5
}