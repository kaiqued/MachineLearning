{
 "cells": [
  {
   "cell_type": "markdown",
   "id": "f1836705",
   "metadata": {},
   "source": [
    "## <span style=\"color:pink\">**PROJETO FINAL DE MACHINE LEARNING 2022.1**</span>\n",
    "### **COLORIZAÇÃO DE IMAGENS BASEADA EM CAPAS DE ÁLBUNS**\n",
    "NICOLE SARVASI ALVES DA COSTA & KAÍQUE DOGNANI"
   ]
  },
  {
   "cell_type": "markdown",
   "id": "2f7b535c",
   "metadata": {},
   "source": [
    "Importação de bibliotecas:"
   ]
  },
  {
   "cell_type": "code",
   "execution_count": null,
   "id": "e149c51d",
   "metadata": {},
   "outputs": [],
   "source": [
    "from tensorflow import keras\n",
    "from tensorflow.keras.utils import img_to_array, load_img\n",
    "from skimage.color import rgb2hsv\n",
    "import numpy as np\n",
    "import os\n",
    "from skimage.color import hsv2rgb\n",
    "import PIL\n",
    "import pickle\n",
    "from sklearn.model_selection import train_test_split\n",
    "import matplotlib.pyplot as plt"
   ]
  },
  {
   "cell_type": "markdown",
   "id": "85b1c956",
   "metadata": {},
   "source": [
    "Importando a base de dados:"
   ]
  },
  {
   "cell_type": "raw",
   "id": "418d3c51",
   "metadata": {},
   "source": [
    "dataset = os.listdir(\"Images\")\n",
    "# print(dataset)"
   ]
  },
  {
   "cell_type": "raw",
   "id": "2993503b",
   "metadata": {},
   "source": [
    "imgList = []\n",
    "for fileName in dataset:\n",
    "    imgList.append(img_to_array(load_img(\"Images\\\\\"+fileName)))\n",
    "    \n"
   ]
  },
  {
   "cell_type": "raw",
   "id": "9535c27f",
   "metadata": {},
   "source": [
    "X = np.array(imgList)"
   ]
  },
  {
   "cell_type": "raw",
   "id": "023a5573",
   "metadata": {},
   "source": [
    "import pickle\n",
    "with open(\"dados.pkl\", 'wb') as file:\n",
    "    pickle.dump(X,file)"
   ]
  },
  {
   "cell_type": "markdown",
   "id": "d89ad466",
   "metadata": {},
   "source": [
    "Passando as imagens para HSV e dividindo-as por canal de cor, o X_hsv para o canal de valor (V) e o Y_hsv para os canais de matriz (H) e saturação (S)."
   ]
  },
  {
   "cell_type": "code",
   "execution_count": null,
   "id": "4be5177c",
   "metadata": {},
   "outputs": [],
   "source": [
    "def RGB2X_Y():\n",
    "    with open(\"dados.pkl\", 'rb') as file:\n",
    "        newDataSet = pickle.load(file)\n",
    "        file.close()\n",
    "    newDataSet = newDataSet/255.0\n",
    "    for index, img in enumerate(newDataSet):\n",
    "        newDataSet[index] = rgb2hsv(img)\n",
    "    X_hsv = np.expand_dims(newDataSet[:,:,:,2], 3)\n",
    "    Y_hsv = newDataSet[:,:,:,:2]\n",
    "    return (X_hsv, Y_hsv)\n",
    "X_hsv, Y_hsv = RGB2X_Y()"
   ]
  },
  {
   "cell_type": "code",
   "execution_count": null,
   "id": "66725049",
   "metadata": {},
   "outputs": [],
   "source": [
    "print(X_hsv.shape)\n",
    "print(Y_hsv.shape)"
   ]
  },
  {
   "cell_type": "code",
   "execution_count": null,
   "id": "7ea2a883",
   "metadata": {},
   "outputs": [],
   "source": [
    "X_hsv.mean()"
   ]
  },
  {
   "cell_type": "markdown",
   "id": "db9592da",
   "metadata": {},
   "source": [
    "Separando o conjunto de treino e teste:"
   ]
  },
  {
   "cell_type": "code",
   "execution_count": null,
   "id": "fd931992",
   "metadata": {},
   "outputs": [],
   "source": [
    "RANDOM_SEED = 42\n",
    "np.random.seed(RANDOM_SEED)\n",
    "\n",
    "\n",
    "X_train, X_test, Y_train, Y_test = train_test_split(\n",
    "    X_hsv, Y_hsv,\n",
    "    test_size=0.1,\n",
    "    random_state=RANDOM_SEED,\n",
    ")"
   ]
  },
  {
   "cell_type": "code",
   "execution_count": null,
   "id": "345575f2",
   "metadata": {},
   "outputs": [],
   "source": [
    "Y_train.shape"
   ]
  },
  {
   "cell_type": "markdown",
   "id": "2f0364fe",
   "metadata": {},
   "source": [
    "Criando um modelo básico:"
   ]
  },
  {
   "cell_type": "code",
   "execution_count": null,
   "id": "29028dc8",
   "metadata": {},
   "outputs": [],
   "source": [
    "model = keras.models.Sequential([\n",
    "    keras.layers.Conv2D(2, input_shape=[150,150,1], kernel_size=3, padding=\"same\", activation=\"sigmoid\"),\n",
    "#     keras.layers.Conv2D(4, kernel_size=3, padding=\"same\", activation=\"sigmoid\"), \n",
    "#     keras.layers.MaxPooling2D(pool_size=2),\n",
    "#     keras.layers.Flatten(),\n",
    "#     keras.layers.Dense(units=16, activation='relu'),\n",
    "#     keras.layers.Dropout(0.5),\n",
    "#     keras.layers.Conv2D(2, kernel_size=3, padding=\"same\", activation=\"sigmoid\"),     \n",
    "])\n"
   ]
  },
  {
   "cell_type": "code",
   "execution_count": null,
   "id": "80a27de2",
   "metadata": {},
   "outputs": [],
   "source": [
    "model.compile(loss=\"mse\", optimizer=\"nadam\")"
   ]
  },
  {
   "cell_type": "code",
   "execution_count": null,
   "id": "567ed4df",
   "metadata": {
    "scrolled": true
   },
   "outputs": [],
   "source": [
    "history = model.fit(X_train, Y_train, epochs=30, batch_size=16)\n",
    "\n",
    "#score = model.evaluate(X_test, Y_test)"
   ]
  },
  {
   "cell_type": "code",
   "execution_count": null,
   "id": "5b782b7d",
   "metadata": {},
   "outputs": [],
   "source": [
    "import PIL\n",
    "file = PIL.Image.open(\"C:\\\\Users\\\\Acer\\\\Pictures\\\\paramore.jpg\")\n",
    "if file.size != (150,150):\n",
    "    file = file.resize((150,150))\n",
    "    file.save(\"C:\\\\Users\\\\Acer\\\\Pictures\\\\paramore.jpg\")"
   ]
  },
  {
   "cell_type": "code",
   "execution_count": null,
   "id": "63a1f857",
   "metadata": {},
   "outputs": [],
   "source": [
    "img = img_to_array(load_img(\"C:\\\\Users\\\\Acer\\\\Pictures\\\\paramore.jpg\"))"
   ]
  },
  {
   "cell_type": "code",
   "execution_count": null,
   "id": "47806baa",
   "metadata": {},
   "outputs": [],
   "source": [
    "img_hsv   = rgb2hsv(img/255.0)\n",
    "img_X_test = np.expand_dims(img_hsv[:,:,2],2)\n",
    "img_Y_test = img_hsv[:,:,:2]"
   ]
  },
  {
   "cell_type": "code",
   "execution_count": null,
   "id": "8e90c906",
   "metadata": {},
   "outputs": [],
   "source": [
    "img_Y_pred = model.predict(np.array([img_X_test]))\n",
    "img_Y_pred.shape"
   ]
  },
  {
   "cell_type": "code",
   "execution_count": null,
   "id": "22cf69bb",
   "metadata": {},
   "outputs": [],
   "source": [
    "img_pred_hsv = np.concatenate((img_Y_pred[0,:,:,:],img_X_test), axis=2)\n",
    "img_test_hsv = np.concatenate((img_Y_test,img_X_test), axis=2)"
   ]
  },
  {
   "cell_type": "code",
   "execution_count": null,
   "id": "ea3fa124",
   "metadata": {},
   "outputs": [],
   "source": [
    "print(\"img_teste_hsv\",img_teste_hsv.shape)\n",
    "print(\"img_pred_hsv\",img_pred_hsv.shape)"
   ]
  },
  {
   "cell_type": "code",
   "execution_count": null,
   "id": "d71a65af",
   "metadata": {
    "scrolled": true
   },
   "outputs": [],
   "source": [
    "Imagem_Pred = (255*hsv2rgb(img_teste_hsv)).astype(np.uint8)\n",
    "Imagem_Test = (255*hsv2rgb(img_correta_hsv)).astype(np.uint8)\n",
    "print(\"Imagem_Pred\",Imagem_Pred.shape)\n",
    "print(\"Imagem_Test\",Imagem_Test.shape)"
   ]
  },
  {
   "cell_type": "code",
   "execution_count": null,
   "id": "5f765318",
   "metadata": {},
   "outputs": [],
   "source": [
    "fig = plt.figure(figsize=(10,10))\n",
    "fig.add_subplot(1,2,1)\n",
    "plt.imshow(Imagem_Correta_Plotar)\n",
    "plt.axis('off')\n",
    "plt.title(\"Test\")\n",
    "\n",
    "fig.add_subplot(1,2,2)\n",
    "plt.imshow(Imagem_Plotar)\n",
    "plt.axis('off')\n",
    "plt.title(\"Pred\")"
   ]
  },
  {
   "cell_type": "code",
   "execution_count": null,
   "id": "baeade78",
   "metadata": {},
   "outputs": [],
   "source": []
  },
  {
   "cell_type": "code",
   "execution_count": null,
   "id": "71013108",
   "metadata": {},
   "outputs": [],
   "source": []
  }
 ],
 "metadata": {
  "kernelspec": {
   "display_name": "Python 3 (ipykernel)",
   "language": "python",
   "name": "python3"
  },
  "language_info": {
   "codemirror_mode": {
    "name": "ipython",
    "version": 3
   },
   "file_extension": ".py",
   "mimetype": "text/x-python",
   "name": "python",
   "nbconvert_exporter": "python",
   "pygments_lexer": "ipython3",
   "version": "3.9.7"
  }
 },
 "nbformat": 4,
 "nbformat_minor": 5
}
